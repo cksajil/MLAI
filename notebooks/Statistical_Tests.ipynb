{
 "cells": [
  {
   "cell_type": "markdown",
   "id": "a34b8354",
   "metadata": {},
   "source": [
    "## T-Test Using Scipy"
   ]
  },
  {
   "cell_type": "code",
   "execution_count": null,
   "id": "1d6a242d",
   "metadata": {},
   "outputs": [],
   "source": [
    "import numpy as np\n",
    "from scipy import stats"
   ]
  },
  {
   "cell_type": "code",
   "execution_count": 6,
   "id": "a62633e7",
   "metadata": {},
   "outputs": [],
   "source": [
    "# https://docs.scipy.org/doc/scipy/reference/generated/scipy.stats.ttest_rel.html\n",
    "b1 = np.array([49.5, 50.1, 49.8,50.3, 50])\n",
    "b2 = np.array([50.4, 49.9, 50.6, 50.2, 50.1])"
   ]
  },
  {
   "cell_type": "code",
   "execution_count": 9,
   "id": "b721f44f",
   "metadata": {},
   "outputs": [
    {
     "data": {
      "text/plain": [
       "TtestResult(statistic=np.float64(-1.6464638998453784), pvalue=np.float64(0.1382848832374163), df=np.float64(8.0))"
      ]
     },
     "execution_count": 9,
     "metadata": {},
     "output_type": "execute_result"
    }
   ],
   "source": [
    "stats.ttest_ind(b1, b2)\n"
   ]
  },
  {
   "cell_type": "markdown",
   "id": "d159daae",
   "metadata": {},
   "source": [
    "## Z-Test using Scipy"
   ]
  },
  {
   "cell_type": "code",
   "execution_count": 10,
   "id": "afbd887e",
   "metadata": {},
   "outputs": [
    {
     "name": "stdout",
     "output_type": "stream",
     "text": [
      "Z-statistic: -0.31622776601683494\n",
      "P-value: 0.7518296340458516\n"
     ]
    }
   ],
   "source": [
    "sample_mean = 50\n",
    "population_mean = 50.15\n",
    "population_std_dev = 1.5\n",
    "sample_size = 10\n",
    "\n",
    "# Calculate Z-statistic\n",
    "z_statistic = (sample_mean - population_mean) / (population_std_dev / np.sqrt(sample_size))\n",
    "\n",
    "# Calculate p-value (two-tailed)\n",
    "p_value = 2 * stats.norm.sf(abs(z_statistic))\n",
    "\n",
    "print(f\"Z-statistic: {z_statistic}\")\n",
    "print(f\"P-value: {p_value}\")"
   ]
  },
  {
   "cell_type": "code",
   "execution_count": null,
   "id": "f397964d",
   "metadata": {},
   "outputs": [],
   "source": []
  }
 ],
 "metadata": {
  "kernelspec": {
   "display_name": ".venv",
   "language": "python",
   "name": "python3"
  },
  "language_info": {
   "codemirror_mode": {
    "name": "ipython",
    "version": 3
   },
   "file_extension": ".py",
   "mimetype": "text/x-python",
   "name": "python",
   "nbconvert_exporter": "python",
   "pygments_lexer": "ipython3",
   "version": "3.11.9"
  }
 },
 "nbformat": 4,
 "nbformat_minor": 5
}
