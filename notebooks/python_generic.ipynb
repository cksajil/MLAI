{
  "nbformat": 4,
  "nbformat_minor": 0,
  "metadata": {
    "colab": {
      "provenance": []
    },
    "kernelspec": {
      "name": "python3",
      "display_name": "Python 3"
    },
    "language_info": {
      "name": "python"
    }
  },
  "cells": [
    {
      "cell_type": "markdown",
      "source": [
        "# Standard Input Output Functions"
      ],
      "metadata": {
        "id": "9GO6aRahTDT7"
      }
    },
    {
      "cell_type": "code",
      "execution_count": null,
      "metadata": {
        "colab": {
          "base_uri": "https://localhost:8080/"
        },
        "id": "2IA2G0s2S-V4",
        "outputId": "b125f7ab-8992-4bf9-bbdf-a80d34d35e55"
      },
      "outputs": [
        {
          "name": "stdout",
          "output_type": "stream",
          "text": [
            "Enter your input: 2\n"
          ]
        }
      ],
      "source": [
        "x = input(\"Enter your input: \")"
      ]
    },
    {
      "cell_type": "code",
      "source": [
        "x"
      ],
      "metadata": {
        "colab": {
          "base_uri": "https://localhost:8080/",
          "height": 35
        },
        "id": "o1zH55DNUV08",
        "outputId": "4d0c1478-1950-4a4b-a85c-92ef46196ae8"
      },
      "execution_count": null,
      "outputs": [
        {
          "output_type": "execute_result",
          "data": {
            "text/plain": [
              "'2'"
            ],
            "application/vnd.google.colaboratory.intrinsic+json": {
              "type": "string"
            }
          },
          "metadata": {},
          "execution_count": 2
        }
      ]
    },
    {
      "cell_type": "code",
      "source": [
        "age = int(input(\"Enter your age: \"))\n",
        "print(type(age))"
      ],
      "metadata": {
        "colab": {
          "base_uri": "https://localhost:8080/"
        },
        "id": "JN-C2qN8YuEL",
        "outputId": "87581828-f40f-428e-cca3-cceab09eefd5"
      },
      "execution_count": null,
      "outputs": [
        {
          "output_type": "stream",
          "name": "stdout",
          "text": [
            "Enter your age: 2\n",
            "<class 'int'>\n"
          ]
        }
      ]
    },
    {
      "cell_type": "markdown",
      "source": [
        "# Print formatting"
      ],
      "metadata": {
        "id": "HNMZPS9iTJRw"
      }
    },
    {
      "cell_type": "code",
      "source": [
        "a = 10\n",
        "b = 20\n",
        "print(a, b)\n",
        "print(\"a contains\", a, \"and\",  \"b contains\", b)"
      ],
      "metadata": {
        "colab": {
          "base_uri": "https://localhost:8080/"
        },
        "id": "OyMOTRJXTEW4",
        "outputId": "c2f5556d-0210-4906-ca8e-6cc65cac17d8"
      },
      "execution_count": null,
      "outputs": [
        {
          "output_type": "stream",
          "name": "stdout",
          "text": [
            "10 20\n",
            "a contains 10 and b contains 20\n"
          ]
        }
      ]
    },
    {
      "cell_type": "markdown",
      "source": [
        "# Place Holder Passing"
      ],
      "metadata": {
        "id": "LwQqrNRqTYJK"
      }
    },
    {
      "cell_type": "code",
      "source": [
        "print(\"a contains {}\".format(a))\n",
        "print(\"a contains {} and b contains {}\".format(a, b))\n",
        "print(\"a contains {1} and b contains {0}\".format(b, a))"
      ],
      "metadata": {
        "colab": {
          "base_uri": "https://localhost:8080/"
        },
        "id": "qO0jFlGATf23",
        "outputId": "93d5921f-f253-4e69-fc1e-7df67e3628e1"
      },
      "execution_count": null,
      "outputs": [
        {
          "output_type": "stream",
          "name": "stdout",
          "text": [
            "a contains 10\n",
            "a contains 10 and b contains 20\n",
            "a contains 10 and b contains 20\n"
          ]
        }
      ]
    },
    {
      "cell_type": "code",
      "source": [
        "print(\"Hello\\n\"*5)"
      ],
      "metadata": {
        "colab": {
          "base_uri": "https://localhost:8080/"
        },
        "id": "LPleUzzNX5ie",
        "outputId": "57a48e61-a0aa-40c9-b3ab-f5eda1d8e517"
      },
      "execution_count": null,
      "outputs": [
        {
          "output_type": "stream",
          "name": "stdout",
          "text": [
            "Hello\n",
            "Hello\n",
            "Hello\n",
            "Hello\n",
            "Hello\n",
            "\n"
          ]
        }
      ]
    },
    {
      "cell_type": "code",
      "source": [
        "name = input(\"Enter your name:\")\n",
        "n = int(input(\"Enter iterations: \"))\n",
        "print(\"Welcome {}\\n\".format(name)*n)"
      ],
      "metadata": {
        "colab": {
          "base_uri": "https://localhost:8080/"
        },
        "id": "g1ltFMxTcBCR",
        "outputId": "e3226e11-04e0-4f90-b12e-3b7c26f0e429"
      },
      "execution_count": null,
      "outputs": [
        {
          "output_type": "stream",
          "name": "stdout",
          "text": [
            "Enter your name:sajil\n",
            "Enter iterations: 3\n",
            "Welcome sajil\n",
            "Welcome sajil\n",
            "Welcome sajil\n",
            "\n"
          ]
        }
      ]
    },
    {
      "cell_type": "markdown",
      "source": [
        "# Line Breaking"
      ],
      "metadata": {
        "id": "zzQTSMOmTNms"
      }
    },
    {
      "cell_type": "code",
      "source": [
        "amount = 10\n",
        "interest = 0.7\n",
        "years = 30\n",
        "total = amount+\\\n",
        " (amount*interest)*years\n",
        "print(\"the total payable is \",total)"
      ],
      "metadata": {
        "id": "wpjcoxXETPoD",
        "colab": {
          "base_uri": "https://localhost:8080/"
        },
        "outputId": "5c94856e-750a-4163-8579-7c66b5ee8e49"
      },
      "execution_count": null,
      "outputs": [
        {
          "output_type": "stream",
          "name": "stdout",
          "text": [
            "the total payable is  220.0\n"
          ]
        }
      ]
    },
    {
      "cell_type": "markdown",
      "source": [
        "# Multiline Assignment"
      ],
      "metadata": {
        "id": "fPFt_GcQTToH"
      }
    },
    {
      "cell_type": "code",
      "source": [
        "# a = 10\n",
        "# b = 20\n",
        "# c = 30\n",
        "\n",
        "a,b,c = 10,20,30\n",
        "print(a,b,c)"
      ],
      "metadata": {
        "id": "efPcSKaUTUmP",
        "colab": {
          "base_uri": "https://localhost:8080/"
        },
        "outputId": "05dc45bf-cae6-45c6-d7d5-f56b12d70f96"
      },
      "execution_count": null,
      "outputs": [
        {
          "output_type": "stream",
          "name": "stdout",
          "text": [
            "10 20 30\n"
          ]
        }
      ]
    },
    {
      "cell_type": "markdown",
      "source": [
        "# Type Conversion and Casting"
      ],
      "metadata": {
        "id": "M5IzRdhnTc60"
      }
    },
    {
      "cell_type": "code",
      "source": [
        "# Integer to String\n",
        "a = 5\n",
        "b = str(a)\n",
        "print(b, type(b))\n",
        "\n",
        "# String to Integer\n",
        "a = \"5\"\n",
        "b = int(a)\n",
        "print(b, type(b))\n",
        "\n",
        "# Integer to float\n",
        "a = 5\n",
        "b = float(a)\n",
        "print(b, type(b))"
      ],
      "metadata": {
        "id": "iBcL5EGgTd5q",
        "colab": {
          "base_uri": "https://localhost:8080/"
        },
        "outputId": "d928bce5-3569-4ff6-dfe7-71613e1ab600"
      },
      "execution_count": null,
      "outputs": [
        {
          "output_type": "stream",
          "name": "stdout",
          "text": [
            "5 <class 'str'>\n",
            "5 <class 'int'>\n",
            "5.0 <class 'float'>\n"
          ]
        }
      ]
    },
    {
      "cell_type": "markdown",
      "source": [
        "# String Indexing and Slicing"
      ],
      "metadata": {
        "id": "AwENfRpktFEa"
      }
    },
    {
      "cell_type": "code",
      "source": [
        "message = \"Welcome\"\n",
        "# print(message[0])\n",
        "\n",
        "# comeWel\n",
        "print(message[3:]+message[:3])\n",
        "\n",
        "#emocleW\n",
        "#elcom\n",
        "#melcoW"
      ],
      "metadata": {
        "id": "5za1niJpfETD",
        "colab": {
          "base_uri": "https://localhost:8080/"
        },
        "outputId": "092ef587-2a01-4822-d540-0b80930db854"
      },
      "execution_count": null,
      "outputs": [
        {
          "output_type": "stream",
          "name": "stdout",
          "text": [
            "comeWel\n"
          ]
        }
      ]
    },
    {
      "cell_type": "markdown",
      "source": [
        "# String Splitting"
      ],
      "metadata": {
        "id": "-6ba_NKMEexD"
      }
    },
    {
      "cell_type": "code",
      "source": [
        "\"Hello Welcome\".split(\" \")"
      ],
      "metadata": {
        "colab": {
          "base_uri": "https://localhost:8080/"
        },
        "id": "9p8ZXn8HElHx",
        "outputId": "8300ef8e-70eb-452f-8a56-1ce1cca8facb"
      },
      "execution_count": null,
      "outputs": [
        {
          "output_type": "execute_result",
          "data": {
            "text/plain": [
              "['Hello', 'Welcome']"
            ]
          },
          "metadata": {},
          "execution_count": 2
        }
      ]
    },
    {
      "cell_type": "code",
      "source": [
        "paragraph = \"First sentence. Second Sentence\"\n",
        "print(paragraph.split(\".\"))\n",
        "print(paragraph.split(\". \"))"
      ],
      "metadata": {
        "colab": {
          "base_uri": "https://localhost:8080/"
        },
        "id": "Zl387YQYtZhB",
        "outputId": "2520e2cc-4a37-4a3d-c3e8-f4792b39da56"
      },
      "execution_count": null,
      "outputs": [
        {
          "output_type": "stream",
          "name": "stdout",
          "text": [
            "['First sentence', ' Second Sentence']\n",
            "['First sentence', 'Second Sentence']\n"
          ]
        }
      ]
    },
    {
      "cell_type": "markdown",
      "source": [
        "# String Join"
      ],
      "metadata": {
        "id": "-4FM_-KVEn9g"
      }
    },
    {
      "cell_type": "code",
      "source": [
        "domain = [\"Data\", \"Science\"]\n",
        "\"-\".join(domain)"
      ],
      "metadata": {
        "id": "JzZ5z8dktr6G",
        "colab": {
          "base_uri": "https://localhost:8080/",
          "height": 35
        },
        "outputId": "a97a1846-a1c5-4466-af4b-046748b4ce04"
      },
      "execution_count": null,
      "outputs": [
        {
          "output_type": "execute_result",
          "data": {
            "text/plain": [
              "'Data-Science'"
            ],
            "application/vnd.google.colaboratory.intrinsic+json": {
              "type": "string"
            }
          },
          "metadata": {},
          "execution_count": 3
        }
      ]
    },
    {
      "cell_type": "markdown",
      "source": [],
      "metadata": {
        "id": "wXEDcIgIJaP2"
      }
    },
    {
      "cell_type": "code",
      "source": [],
      "metadata": {
        "id": "i4-bpR_aEpiW"
      },
      "execution_count": null,
      "outputs": []
    }
  ]
}