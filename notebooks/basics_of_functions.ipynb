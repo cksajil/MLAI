{
  "nbformat": 4,
  "nbformat_minor": 0,
  "metadata": {
    "colab": {
      "provenance": []
    },
    "kernelspec": {
      "name": "python3",
      "display_name": "Python 3"
    },
    "language_info": {
      "name": "python"
    }
  },
  "cells": [
    {
      "cell_type": "code",
      "source": [
        "with open(\"sample.txt\", \"w\") as f:\n",
        "    f.write(\"Hello, World!\")"
      ],
      "metadata": {
        "id": "r_snFWJQDus8"
      },
      "execution_count": null,
      "outputs": []
    },
    {
      "cell_type": "code",
      "source": [
        "with open(\"sample.txt\", \"r\") as f:\n",
        "  data = f.readlines()[0]\n",
        "print(data)"
      ],
      "metadata": {
        "colab": {
          "base_uri": "https://localhost:8080/"
        },
        "id": "w0BCJ5_LD4Ue",
        "outputId": "7cc7f1b1-b2b5-4a5c-f7b2-8afe475a1498"
      },
      "execution_count": null,
      "outputs": [
        {
          "output_type": "stream",
          "name": "stdout",
          "text": [
            "Hello, World!\n"
          ]
        }
      ]
    },
    {
      "cell_type": "code",
      "execution_count": null,
      "metadata": {
        "id": "n2Pa6w_Gay0d"
      },
      "outputs": [],
      "source": [
        "def greet():\n",
        "  return \"Good morning\""
      ]
    },
    {
      "cell_type": "code",
      "source": [
        "a = greet()"
      ],
      "metadata": {
        "id": "DJvkOpGUa6JK"
      },
      "execution_count": null,
      "outputs": []
    },
    {
      "cell_type": "code",
      "source": [
        "print(a)"
      ],
      "metadata": {
        "colab": {
          "base_uri": "https://localhost:8080/"
        },
        "id": "3G3NkuZHa9Nw",
        "outputId": "d1c5ddd0-d9a9-4bb6-bf0d-3a5164200df8"
      },
      "execution_count": null,
      "outputs": [
        {
          "output_type": "stream",
          "name": "stdout",
          "text": [
            "Good morning\n"
          ]
        }
      ]
    },
    {
      "cell_type": "code",
      "source": [
        "def add(a,b):\n",
        "  c = a+b\n",
        "  return c"
      ],
      "metadata": {
        "id": "a1LVpwUSbXQz"
      },
      "execution_count": null,
      "outputs": []
    },
    {
      "cell_type": "code",
      "source": [
        "z = add(2,4)"
      ],
      "metadata": {
        "id": "extjxxmqbqAT"
      },
      "execution_count": null,
      "outputs": []
    },
    {
      "cell_type": "code",
      "source": [
        "print(z)"
      ],
      "metadata": {
        "colab": {
          "base_uri": "https://localhost:8080/"
        },
        "id": "dTeBpNvzbr80",
        "outputId": "9bfec67b-1fdb-45c2-e27d-50554d3fec04"
      },
      "execution_count": null,
      "outputs": [
        {
          "output_type": "stream",
          "name": "stdout",
          "text": [
            "5\n"
          ]
        }
      ]
    },
    {
      "cell_type": "code",
      "source": [
        "def add(a,b=10):\n",
        "  c = a+b\n",
        "  return c"
      ],
      "metadata": {
        "id": "6avK-qmObxvW"
      },
      "execution_count": null,
      "outputs": []
    },
    {
      "cell_type": "code",
      "source": [
        "z = add(2)\n",
        "print(z)"
      ],
      "metadata": {
        "colab": {
          "base_uri": "https://localhost:8080/"
        },
        "id": "8wlZaw41dKwa",
        "outputId": "3d69f0bf-d077-4825-e936-2776b9cc23a2"
      },
      "execution_count": null,
      "outputs": [
        {
          "output_type": "stream",
          "name": "stdout",
          "text": [
            "12\n"
          ]
        }
      ]
    },
    {
      "cell_type": "code",
      "source": [
        "def simple_arithmetic(a,b):\n",
        "  return a+b, a-b, a*b, a/b\n",
        "\n",
        "tsum, tdiff, tmul, tdiv = simple_arithmetic(10,5)\n",
        "print(tsum, tdiff, tmul, tdiv)"
      ],
      "metadata": {
        "id": "x5PrvO8JdM4q"
      },
      "execution_count": null,
      "outputs": []
    }
  ]
}