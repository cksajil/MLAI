{
  "nbformat": 4,
  "nbformat_minor": 0,
  "metadata": {
    "colab": {
      "provenance": []
    },
    "kernelspec": {
      "name": "python3",
      "display_name": "Python 3"
    },
    "language_info": {
      "name": "python"
    }
  },
  "cells": [
    {
      "cell_type": "markdown",
      "source": [
        "## Use Heart Disease [Dataset](https://github.com/cksajil/DSAIRP25/blob/main/datasets/heart_disease.csv) and answer the following questions"
      ],
      "metadata": {
        "id": "97V1aD4PHw_5"
      }
    },
    {
      "cell_type": "markdown",
      "source": [
        "## 1. Find the top 5 important features to the target column"
      ],
      "metadata": {
        "id": "dSQarmgHH93D"
      }
    },
    {
      "cell_type": "code",
      "execution_count": null,
      "metadata": {
        "id": "RMWtFKt6HpQR"
      },
      "outputs": [],
      "source": []
    },
    {
      "cell_type": "markdown",
      "source": [
        "## 2. Perform Box-Cox Transformations to relevant features"
      ],
      "metadata": {
        "id": "imoVr9ncIJON"
      }
    },
    {
      "cell_type": "code",
      "source": [],
      "metadata": {
        "id": "Bj7p_G0uITkW"
      },
      "execution_count": null,
      "outputs": []
    },
    {
      "cell_type": "markdown",
      "source": [
        "## 3. Perform Feature Binning to Age Column and add it as a new column to the dataset"
      ],
      "metadata": {
        "id": "RWyCYg3OIcX7"
      }
    },
    {
      "cell_type": "code",
      "source": [],
      "metadata": {
        "id": "ViH14BpZIjdz"
      },
      "execution_count": null,
      "outputs": []
    },
    {
      "cell_type": "markdown",
      "source": [
        "## 4. Find the most orthogonal feature to the 'chol' feature"
      ],
      "metadata": {
        "id": "BkXOa5r2IkAh"
      }
    },
    {
      "cell_type": "code",
      "source": [],
      "metadata": {
        "id": "TGjUk6IwI1Ea"
      },
      "execution_count": null,
      "outputs": []
    }
  ]
}