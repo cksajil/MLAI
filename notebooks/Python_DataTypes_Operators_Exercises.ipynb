{
  "cells": [
    {
      "cell_type": "markdown",
      "id": "44a5ff95",
      "metadata": {
        "id": "44a5ff95"
      },
      "source": [
        "## A. Basics of Data Types"
      ]
    },
    {
      "cell_type": "markdown",
      "id": "61e45e3f",
      "metadata": {
        "id": "61e45e3f"
      },
      "source": [
        "### Question 1\n",
        "Print the type of the number 25."
      ]
    },
    {
      "cell_type": "code",
      "execution_count": null,
      "id": "85c3e204",
      "metadata": {
        "id": "85c3e204"
      },
      "outputs": [],
      "source": [
        "# Your code here"
      ]
    },
    {
      "cell_type": "markdown",
      "id": "f969ce70",
      "metadata": {
        "id": "f969ce70"
      },
      "source": [
        "### Question 2\n",
        "Print the type of \"hello\" and 25.5."
      ]
    },
    {
      "cell_type": "code",
      "execution_count": null,
      "id": "9c6c7c0c",
      "metadata": {
        "id": "9c6c7c0c"
      },
      "outputs": [],
      "source": [
        "# Your code here"
      ]
    },
    {
      "cell_type": "markdown",
      "id": "74178f8c",
      "metadata": {
        "id": "74178f8c"
      },
      "source": [
        "### Question 10\n",
        "What is the output of print(type(5+5.0))?"
      ]
    },
    {
      "cell_type": "code",
      "execution_count": null,
      "id": "3cc2223d",
      "metadata": {
        "id": "3cc2223d"
      },
      "outputs": [],
      "source": [
        "# Your code here"
      ]
    },
    {
      "cell_type": "markdown",
      "id": "15862d71",
      "metadata": {
        "id": "15862d71"
      },
      "source": [
        "### Question 11\n",
        "Print the result of str(5) + \" apples\"."
      ]
    },
    {
      "cell_type": "code",
      "execution_count": null,
      "id": "0be9e39d",
      "metadata": {
        "id": "0be9e39d"
      },
      "outputs": [],
      "source": [
        "# Your code here"
      ]
    },
    {
      "cell_type": "markdown",
      "id": "aefd3238",
      "metadata": {
        "id": "aefd3238"
      },
      "source": [
        "### Question 12\n",
        "Use print() to display a string that includes both single and double quotes."
      ]
    },
    {
      "cell_type": "code",
      "execution_count": null,
      "id": "f5aafa02",
      "metadata": {
        "id": "f5aafa02"
      },
      "outputs": [],
      "source": [
        "# Your code here"
      ]
    },
    {
      "cell_type": "markdown",
      "id": "d8cd15cd",
      "metadata": {
        "id": "d8cd15cd"
      },
      "source": [
        "### Question 13\n",
        "Use len() to print the length of \"Python Rocks!\"."
      ]
    },
    {
      "cell_type": "code",
      "execution_count": null,
      "id": "6d759d14",
      "metadata": {
        "id": "6d759d14"
      },
      "outputs": [],
      "source": [
        "# Your code here"
      ]
    },
    {
      "cell_type": "markdown",
      "id": "76d8be20",
      "metadata": {
        "id": "76d8be20"
      },
      "source": [
        "### Question 18\n",
        "Create a set of duplicate elements and print it."
      ]
    },
    {
      "cell_type": "code",
      "execution_count": null,
      "id": "bca80459",
      "metadata": {
        "id": "bca80459"
      },
      "outputs": [],
      "source": [
        "# Your code here"
      ]
    },
    {
      "cell_type": "markdown",
      "id": "c2e3e405",
      "metadata": {
        "id": "c2e3e405"
      },
      "source": [
        "## B. Arithmetic Operators"
      ]
    },
    {
      "cell_type": "markdown",
      "id": "33c1a0f7",
      "metadata": {
        "id": "33c1a0f7"
      },
      "source": [
        "### Question 22\n",
        "Add, subtract, multiply, and divide 15 and 4, and print all results."
      ]
    },
    {
      "cell_type": "code",
      "execution_count": null,
      "id": "a5318ec6",
      "metadata": {
        "id": "a5318ec6"
      },
      "outputs": [],
      "source": [
        "# Your code here"
      ]
    },
    {
      "cell_type": "markdown",
      "id": "04b8b094",
      "metadata": {
        "id": "04b8b094"
      },
      "source": [
        "### Question 23\n",
        "Find the floor division of 15 by 4."
      ]
    },
    {
      "cell_type": "code",
      "execution_count": null,
      "id": "811ef0be",
      "metadata": {
        "id": "811ef0be"
      },
      "outputs": [],
      "source": [
        "# Your code here"
      ]
    },
    {
      "cell_type": "markdown",
      "id": "ee3e02f9",
      "metadata": {
        "id": "ee3e02f9"
      },
      "source": [
        "### Question 24\n",
        "Use modulo to find the remainder when 17 is divided by 5."
      ]
    },
    {
      "cell_type": "code",
      "execution_count": null,
      "id": "3cd8f290",
      "metadata": {
        "id": "3cd8f290"
      },
      "outputs": [],
      "source": [
        "# Your code here"
      ]
    },
    {
      "cell_type": "markdown",
      "id": "1db1613a",
      "metadata": {
        "id": "1db1613a"
      },
      "source": [
        "### Question 25\n",
        "Raise 3 to the power of 4 and print."
      ]
    },
    {
      "cell_type": "code",
      "execution_count": null,
      "id": "0a28d377",
      "metadata": {
        "id": "0a28d377"
      },
      "outputs": [],
      "source": [
        "# Your code here"
      ]
    },
    {
      "cell_type": "markdown",
      "id": "00a38177",
      "metadata": {
        "id": "00a38177"
      },
      "source": [
        "### Question 26\n",
        "Evaluate 10 + 2 * 5 and explain the output."
      ]
    },
    {
      "cell_type": "code",
      "execution_count": null,
      "id": "190c9147",
      "metadata": {
        "id": "190c9147"
      },
      "outputs": [],
      "source": [
        "# Your code here"
      ]
    },
    {
      "cell_type": "markdown",
      "id": "b95baeae",
      "metadata": {
        "id": "b95baeae"
      },
      "source": [
        "### Question 27\n",
        "Print result of (10 + 2) * 5."
      ]
    },
    {
      "cell_type": "code",
      "execution_count": null,
      "id": "da399fe3",
      "metadata": {
        "id": "da399fe3"
      },
      "outputs": [],
      "source": [
        "# Your code here"
      ]
    },
    {
      "cell_type": "markdown",
      "id": "63519e64",
      "metadata": {
        "id": "63519e64"
      },
      "source": [
        "### Question 28\n",
        "Use print() to show the result of 7 % 3 == 1."
      ]
    },
    {
      "cell_type": "code",
      "execution_count": null,
      "id": "c9bd9977",
      "metadata": {
        "id": "c9bd9977"
      },
      "outputs": [],
      "source": [
        "# Your code here"
      ]
    },
    {
      "cell_type": "markdown",
      "id": "8a60cadb",
      "metadata": {
        "id": "8a60cadb"
      },
      "source": [
        "### Question 29\n",
        "Store the result of 3 ** 2 + 1 in a variable and print its type."
      ]
    },
    {
      "cell_type": "code",
      "execution_count": null,
      "id": "afdcd584",
      "metadata": {
        "id": "afdcd584"
      },
      "outputs": [],
      "source": [
        "# Your code here"
      ]
    },
    {
      "cell_type": "markdown",
      "id": "bbc01f7a",
      "metadata": {
        "id": "bbc01f7a"
      },
      "source": [
        "### Question 30\n",
        "Use print() to check if 8 // 3 equals 2."
      ]
    },
    {
      "cell_type": "code",
      "execution_count": null,
      "id": "74d096be",
      "metadata": {
        "id": "74d096be"
      },
      "outputs": [],
      "source": [
        "# Your code here"
      ]
    },
    {
      "cell_type": "markdown",
      "id": "08933444",
      "metadata": {
        "id": "08933444"
      },
      "source": [
        "### Question 32\n",
        "Check the type of the result of 10 / 2."
      ]
    },
    {
      "cell_type": "code",
      "execution_count": null,
      "id": "bf9214d6",
      "metadata": {
        "id": "bf9214d6"
      },
      "outputs": [],
      "source": [
        "# Your code here"
      ]
    },
    {
      "cell_type": "markdown",
      "id": "ce397429",
      "metadata": {
        "id": "ce397429"
      },
      "source": [
        "### Question 33\n",
        "Check the type of 10 // 2."
      ]
    },
    {
      "cell_type": "code",
      "execution_count": null,
      "id": "2407f036",
      "metadata": {
        "id": "2407f036"
      },
      "outputs": [],
      "source": [
        "# Your code here"
      ]
    },
    {
      "cell_type": "markdown",
      "id": "a37d0b0e",
      "metadata": {
        "id": "a37d0b0e"
      },
      "source": [
        "### Question 34\n",
        "Use print to show how float division and integer division differ for 9 / 2 and 9 // 2."
      ]
    },
    {
      "cell_type": "code",
      "execution_count": null,
      "id": "99578353",
      "metadata": {
        "id": "99578353"
      },
      "outputs": [],
      "source": [
        "# Your code here"
      ]
    },
    {
      "cell_type": "markdown",
      "id": "ba5ba2f3",
      "metadata": {
        "id": "ba5ba2f3"
      },
      "source": [
        "### Question 35\n",
        "Evaluate and print 2 + 3 * 4 / 2 - 1."
      ]
    },
    {
      "cell_type": "code",
      "execution_count": null,
      "id": "88f4eda7",
      "metadata": {
        "id": "88f4eda7"
      },
      "outputs": [],
      "source": [
        "# Your code here"
      ]
    },
    {
      "cell_type": "markdown",
      "id": "640bf6dc",
      "metadata": {
        "id": "640bf6dc"
      },
      "source": [
        "## C. Comparison Operators"
      ]
    },
    {
      "cell_type": "markdown",
      "id": "e6d8aad7",
      "metadata": {
        "id": "e6d8aad7"
      },
      "source": [
        "### Question 37\n",
        "Print the result of 5 > 3."
      ]
    },
    {
      "cell_type": "code",
      "execution_count": null,
      "id": "a0d0e1cd",
      "metadata": {
        "id": "a0d0e1cd"
      },
      "outputs": [],
      "source": [
        "# Your code here"
      ]
    },
    {
      "cell_type": "markdown",
      "id": "7b826cfa",
      "metadata": {
        "id": "7b826cfa"
      },
      "source": [
        "### Question 38\n",
        "Check if 5 == 5.0 and explain the result."
      ]
    },
    {
      "cell_type": "code",
      "execution_count": null,
      "id": "9325a945",
      "metadata": {
        "id": "9325a945"
      },
      "outputs": [],
      "source": [
        "# Your code here"
      ]
    },
    {
      "cell_type": "markdown",
      "id": "7074601a",
      "metadata": {
        "id": "7074601a"
      },
      "source": [
        "### Question 39\n",
        "Compare \"apple\" with \"banana\" using <."
      ]
    },
    {
      "cell_type": "code",
      "execution_count": null,
      "id": "3abdafbd",
      "metadata": {
        "id": "3abdafbd"
      },
      "outputs": [],
      "source": [
        "# Your code here"
      ]
    },
    {
      "cell_type": "markdown",
      "id": "015ccb3a",
      "metadata": {
        "id": "015ccb3a"
      },
      "source": [
        "### Question 40\n",
        "Use print() to show if len(\"car\") == 3."
      ]
    },
    {
      "cell_type": "code",
      "execution_count": null,
      "id": "f2c62662",
      "metadata": {
        "id": "f2c62662"
      },
      "outputs": [],
      "source": [
        "# Your code here"
      ]
    },
    {
      "cell_type": "markdown",
      "id": "841de2ce",
      "metadata": {
        "id": "841de2ce"
      },
      "source": [
        "### Question 41\n",
        "Check if \"Python\" != \"python\" and print result."
      ]
    },
    {
      "cell_type": "code",
      "execution_count": null,
      "id": "13e6fbe5",
      "metadata": {
        "id": "13e6fbe5"
      },
      "outputs": [],
      "source": [
        "# Your code here"
      ]
    },
    {
      "cell_type": "markdown",
      "id": "1bb5442c",
      "metadata": {
        "id": "1bb5442c"
      },
      "source": [
        "### Question 42\n",
        "Store two numbers and check which one is greater using >."
      ]
    },
    {
      "cell_type": "code",
      "execution_count": null,
      "id": "a78d5c31",
      "metadata": {
        "id": "a78d5c31"
      },
      "outputs": [],
      "source": [
        "# Your code here"
      ]
    },
    {
      "cell_type": "markdown",
      "id": "bb4bd2ac",
      "metadata": {
        "id": "bb4bd2ac"
      },
      "source": [
        "### Question 43\n",
        "Compare two lists using == and !=."
      ]
    },
    {
      "cell_type": "code",
      "execution_count": null,
      "id": "e4b7558f",
      "metadata": {
        "id": "e4b7558f"
      },
      "outputs": [],
      "source": [
        "# Your code here"
      ]
    },
    {
      "cell_type": "markdown",
      "id": "a6d162d8",
      "metadata": {
        "id": "a6d162d8"
      },
      "source": [
        "### Question 44\n",
        "Compare the type of \"10\" with 10."
      ]
    },
    {
      "cell_type": "code",
      "execution_count": null,
      "id": "e3fec266",
      "metadata": {
        "id": "e3fec266"
      },
      "outputs": [],
      "source": [
        "# Your code here"
      ]
    },
    {
      "cell_type": "markdown",
      "id": "2eac53bc",
      "metadata": {
        "id": "2eac53bc"
      },
      "source": [
        "### Question 45\n",
        "Check if None == False."
      ]
    },
    {
      "cell_type": "code",
      "execution_count": null,
      "id": "b410db95",
      "metadata": {
        "id": "b410db95"
      },
      "outputs": [],
      "source": [
        "# Your code here"
      ]
    },
    {
      "cell_type": "markdown",
      "id": "2c1e7ae6",
      "metadata": {
        "id": "2c1e7ae6"
      },
      "source": [
        "### Question 46\n",
        "Use print() to show whether 10 >= 10."
      ]
    },
    {
      "cell_type": "code",
      "execution_count": null,
      "id": "b37cb4a3",
      "metadata": {
        "id": "b37cb4a3"
      },
      "outputs": [],
      "source": [
        "# Your code here"
      ]
    },
    {
      "cell_type": "markdown",
      "id": "04f30b47",
      "metadata": {
        "id": "04f30b47"
      },
      "source": [
        "### Question 47\n",
        "Compare a float and int: print(10.0 == 10)."
      ]
    },
    {
      "cell_type": "code",
      "execution_count": null,
      "id": "56aa8727",
      "metadata": {
        "id": "56aa8727"
      },
      "outputs": [],
      "source": [
        "# Your code here"
      ]
    },
    {
      "cell_type": "markdown",
      "id": "104ed0f8",
      "metadata": {
        "id": "104ed0f8"
      },
      "source": [
        "### Question 48\n",
        "Use len() to compare lengths of two different strings."
      ]
    },
    {
      "cell_type": "code",
      "execution_count": null,
      "id": "95cd186b",
      "metadata": {
        "id": "95cd186b"
      },
      "outputs": [],
      "source": [
        "# Your code here"
      ]
    },
    {
      "cell_type": "markdown",
      "id": "667a5d83",
      "metadata": {
        "id": "667a5d83"
      },
      "source": [
        "### Question 50\n",
        "Use print() to show whether 4*2 != 10 - 2."
      ]
    },
    {
      "cell_type": "code",
      "execution_count": null,
      "id": "3ec8c9a3",
      "metadata": {
        "id": "3ec8c9a3"
      },
      "outputs": [],
      "source": [
        "# Your code here"
      ]
    },
    {
      "cell_type": "markdown",
      "id": "bd0dcd4f",
      "metadata": {
        "id": "bd0dcd4f"
      },
      "source": [
        "### Question 51\n",
        "Use chained comparisons: print(1 < 3 < 5)."
      ]
    },
    {
      "cell_type": "code",
      "execution_count": null,
      "id": "88c05364",
      "metadata": {
        "id": "88c05364"
      },
      "outputs": [],
      "source": [
        "# Your code here"
      ]
    },
    {
      "cell_type": "markdown",
      "id": "f5c880f5",
      "metadata": {
        "id": "f5c880f5"
      },
      "source": [
        "## D. Logical Operators"
      ]
    },
    {
      "cell_type": "markdown",
      "id": "dd265aaa",
      "metadata": {
        "id": "dd265aaa"
      },
      "source": [
        "### Question 53\n",
        "Evaluate and print True and False."
      ]
    },
    {
      "cell_type": "code",
      "execution_count": null,
      "id": "4f80e4ac",
      "metadata": {
        "id": "4f80e4ac"
      },
      "outputs": [],
      "source": [
        "# Your code here"
      ]
    },
    {
      "cell_type": "markdown",
      "id": "82190eca",
      "metadata": {
        "id": "82190eca"
      },
      "source": [
        "### Question 54\n",
        "Evaluate and print False or True."
      ]
    },
    {
      "cell_type": "code",
      "execution_count": null,
      "id": "f2349334",
      "metadata": {
        "id": "f2349334"
      },
      "outputs": [],
      "source": [
        "# Your code here"
      ]
    },
    {
      "cell_type": "markdown",
      "id": "154492f5",
      "metadata": {
        "id": "154492f5"
      },
      "source": [
        "### Question 55\n",
        "Use not on a boolean value and print."
      ]
    },
    {
      "cell_type": "code",
      "execution_count": null,
      "id": "7ab2cfec",
      "metadata": {
        "id": "7ab2cfec"
      },
      "outputs": [],
      "source": [
        "# Your code here"
      ]
    },
    {
      "cell_type": "markdown",
      "id": "2dbcfe32",
      "metadata": {
        "id": "2dbcfe32"
      },
      "source": [
        "### Question 56\n",
        "Combine two conditions using and."
      ]
    },
    {
      "cell_type": "code",
      "execution_count": null,
      "id": "3afea6f5",
      "metadata": {
        "id": "3afea6f5"
      },
      "outputs": [],
      "source": [
        "# Your code here"
      ]
    },
    {
      "cell_type": "markdown",
      "id": "70b59ccc",
      "metadata": {
        "id": "70b59ccc"
      },
      "source": [
        "### Question 57\n",
        "Combine two conditions using or."
      ]
    },
    {
      "cell_type": "code",
      "execution_count": null,
      "id": "a7415bb4",
      "metadata": {
        "id": "a7415bb4"
      },
      "outputs": [],
      "source": [
        "# Your code here"
      ]
    },
    {
      "cell_type": "markdown",
      "id": "3225ca77",
      "metadata": {
        "id": "3225ca77"
      },
      "source": [
        "### Question 58\n",
        "Print the result of True and not False."
      ]
    },
    {
      "cell_type": "code",
      "execution_count": null,
      "id": "f2f169c1",
      "metadata": {
        "id": "f2f169c1"
      },
      "outputs": [],
      "source": [
        "# Your code here"
      ]
    },
    {
      "cell_type": "markdown",
      "id": "9d005040",
      "metadata": {
        "id": "9d005040"
      },
      "source": [
        "### Question 59\n",
        "Use logical operators to check if a number is between 10 and 20."
      ]
    },
    {
      "cell_type": "code",
      "execution_count": null,
      "id": "f76caad0",
      "metadata": {
        "id": "f76caad0"
      },
      "outputs": [],
      "source": [
        "# Your code here"
      ]
    },
    {
      "cell_type": "markdown",
      "id": "cb6fd782",
      "metadata": {
        "id": "cb6fd782"
      },
      "source": [
        "### Question 60\n",
        "Use len() to check if a list is non-empty."
      ]
    },
    {
      "cell_type": "code",
      "execution_count": null,
      "id": "ee17c58f",
      "metadata": {
        "id": "ee17c58f"
      },
      "outputs": [],
      "source": [
        "# Your code here"
      ]
    },
    {
      "cell_type": "markdown",
      "id": "87ddb4ed",
      "metadata": {
        "id": "87ddb4ed"
      },
      "source": [
        "### Question 61\n",
        "Create a condition using and and or together."
      ]
    },
    {
      "cell_type": "code",
      "execution_count": null,
      "id": "6fefe8f2",
      "metadata": {
        "id": "6fefe8f2"
      },
      "outputs": [],
      "source": [
        "# Your code here"
      ]
    },
    {
      "cell_type": "markdown",
      "id": "ff66e5fb",
      "metadata": {
        "id": "ff66e5fb"
      },
      "source": [
        "### Question 62\n",
        "Check if either of two strings is equal to \"admin\"."
      ]
    },
    {
      "cell_type": "code",
      "execution_count": null,
      "id": "15b27362",
      "metadata": {
        "id": "15b27362"
      },
      "outputs": [],
      "source": [
        "# Your code here"
      ]
    },
    {
      "cell_type": "markdown",
      "id": "6ed4e0c6",
      "metadata": {
        "id": "6ed4e0c6"
      },
      "source": [
        "### Question 63\n",
        "Use not with a comparison: not (5 > 3)."
      ]
    },
    {
      "cell_type": "code",
      "execution_count": null,
      "id": "3684350b",
      "metadata": {
        "id": "3684350b"
      },
      "outputs": [],
      "source": [
        "# Your code here"
      ]
    },
    {
      "cell_type": "markdown",
      "id": "b7c31020",
      "metadata": {
        "id": "b7c31020"
      },
      "source": [
        "### Question 64\n",
        "Combine string length comparisons using logical operators."
      ]
    },
    {
      "cell_type": "code",
      "execution_count": null,
      "id": "1253ee4e",
      "metadata": {
        "id": "1253ee4e"
      },
      "outputs": [],
      "source": [
        "# Your code here"
      ]
    },
    {
      "cell_type": "markdown",
      "id": "1583d6d6",
      "metadata": {
        "id": "1583d6d6"
      },
      "source": [
        "### Question 65\n",
        "Use print() to show result of not (True and False)."
      ]
    },
    {
      "cell_type": "code",
      "execution_count": null,
      "id": "9326dc7a",
      "metadata": {
        "id": "9326dc7a"
      },
      "outputs": [],
      "source": [
        "# Your code here"
      ]
    },
    {
      "cell_type": "markdown",
      "id": "800f7358",
      "metadata": {
        "id": "800f7358"
      },
      "source": [
        "### Question 66\n",
        "Check if a variable is not None using is not."
      ]
    },
    {
      "cell_type": "code",
      "execution_count": null,
      "id": "294a1eca",
      "metadata": {
        "id": "294a1eca"
      },
      "outputs": [],
      "source": [
        "# Your code here"
      ]
    },
    {
      "cell_type": "markdown",
      "id": "418adde5",
      "metadata": {
        "id": "418adde5"
      },
      "source": [
        "### Question 67\n",
        "Combine multiple comparisons using parentheses and logical operators."
      ]
    },
    {
      "cell_type": "code",
      "execution_count": null,
      "id": "fda54913",
      "metadata": {
        "id": "fda54913"
      },
      "outputs": [],
      "source": [
        "# Your code here"
      ]
    },
    {
      "cell_type": "markdown",
      "id": "2c63c5c1",
      "metadata": {
        "id": "2c63c5c1"
      },
      "source": [
        "## E. Strings and len() Practice"
      ]
    },
    {
      "cell_type": "markdown",
      "id": "e66bc7c0",
      "metadata": {
        "id": "e66bc7c0"
      },
      "source": [
        "### Question 68\n",
        "Print the length of \"The quick brown fox\"."
      ]
    },
    {
      "cell_type": "code",
      "execution_count": null,
      "id": "02054355",
      "metadata": {
        "id": "02054355"
      },
      "outputs": [],
      "source": [
        "# Your code here"
      ]
    },
    {
      "cell_type": "markdown",
      "id": "3f138b00",
      "metadata": {
        "id": "3f138b00"
      },
      "source": [
        "### Question 69\n",
        "Get the length of \"1234567890\" and check if it's even."
      ]
    },
    {
      "cell_type": "code",
      "execution_count": null,
      "id": "89228156",
      "metadata": {
        "id": "89228156"
      },
      "outputs": [],
      "source": [
        "# Your code here"
      ]
    },
    {
      "cell_type": "markdown",
      "id": "2e45db20",
      "metadata": {
        "id": "2e45db20"
      },
      "source": [
        "### Question 70\n",
        "Use string concatenation to create a greeting."
      ]
    },
    {
      "cell_type": "code",
      "execution_count": null,
      "id": "da9283c4",
      "metadata": {
        "id": "da9283c4"
      },
      "outputs": [],
      "source": [
        "# Your code here"
      ]
    },
    {
      "cell_type": "markdown",
      "id": "ca3c6a78",
      "metadata": {
        "id": "ca3c6a78"
      },
      "source": [
        "### Question 71\n",
        "Concatenate string and number after converting number to string."
      ]
    },
    {
      "cell_type": "code",
      "execution_count": null,
      "id": "79fb6c85",
      "metadata": {
        "id": "79fb6c85"
      },
      "outputs": [],
      "source": [
        "# Your code here"
      ]
    },
    {
      "cell_type": "markdown",
      "id": "f5535ccc",
      "metadata": {
        "id": "f5535ccc"
      },
      "source": [
        "### Question 72\n",
        "Find and print the number of characters in \"    trimmed    \" after stripping."
      ]
    },
    {
      "cell_type": "code",
      "execution_count": null,
      "id": "82980c24",
      "metadata": {
        "id": "82980c24"
      },
      "outputs": [],
      "source": [
        "# Your code here"
      ]
    },
    {
      "cell_type": "markdown",
      "id": "691cbd13",
      "metadata": {
        "id": "691cbd13"
      },
      "source": [
        "### Question 73\n",
        "Use print() to format string using f-strings."
      ]
    },
    {
      "cell_type": "code",
      "execution_count": null,
      "id": "66d4d081",
      "metadata": {
        "id": "66d4d081"
      },
      "outputs": [],
      "source": [
        "# Your code here"
      ]
    },
    {
      "cell_type": "markdown",
      "id": "459c1bcd",
      "metadata": {
        "id": "459c1bcd"
      },
      "source": [
        "### Question 74\n",
        "Use len() to count characters in str(100**10)."
      ]
    },
    {
      "cell_type": "code",
      "execution_count": null,
      "id": "271a676b",
      "metadata": {
        "id": "271a676b"
      },
      "outputs": [],
      "source": [
        "# Your code here"
      ]
    },
    {
      "cell_type": "markdown",
      "id": "52a163f6",
      "metadata": {
        "id": "52a163f6"
      },
      "source": [
        "### Question 75\n",
        "Print \"hello\" repeated 3 times."
      ]
    },
    {
      "cell_type": "code",
      "execution_count": null,
      "id": "eb3ec504",
      "metadata": {
        "id": "eb3ec504"
      },
      "outputs": [],
      "source": [
        "# Your code here"
      ]
    },
    {
      "cell_type": "markdown",
      "id": "ed9dcb1a",
      "metadata": {
        "id": "ed9dcb1a"
      },
      "source": [
        "### Question 76\n",
        "Print the first and last character of a string using indexing."
      ]
    },
    {
      "cell_type": "code",
      "execution_count": null,
      "id": "afe61f65",
      "metadata": {
        "id": "afe61f65"
      },
      "outputs": [],
      "source": [
        "# Your code here"
      ]
    },
    {
      "cell_type": "markdown",
      "id": "8cff1029",
      "metadata": {
        "id": "8cff1029"
      },
      "source": [
        "### Question 77\n",
        "Slice a string to print only the first 3 characters."
      ]
    },
    {
      "cell_type": "code",
      "execution_count": null,
      "id": "63330385",
      "metadata": {
        "id": "63330385"
      },
      "outputs": [],
      "source": [
        "# Your code here"
      ]
    },
    {
      "cell_type": "markdown",
      "id": "2f4f3ac6",
      "metadata": {
        "id": "2f4f3ac6"
      },
      "source": [
        "### Question 78\n",
        "Combine two strings using + and print the result."
      ]
    },
    {
      "cell_type": "code",
      "execution_count": null,
      "id": "af981d94",
      "metadata": {
        "id": "af981d94"
      },
      "outputs": [],
      "source": [
        "# Your code here"
      ]
    },
    {
      "cell_type": "markdown",
      "id": "fd3f10c6",
      "metadata": {
        "id": "fd3f10c6"
      },
      "source": [
        "### Question 79\n",
        "Use print() to show string multiplication: \"a\"*5."
      ]
    },
    {
      "cell_type": "code",
      "execution_count": null,
      "id": "0e4532e2",
      "metadata": {
        "id": "0e4532e2"
      },
      "outputs": [],
      "source": [
        "# Your code here"
      ]
    },
    {
      "cell_type": "markdown",
      "id": "d1fdf18d",
      "metadata": {
        "id": "d1fdf18d"
      },
      "source": [
        "### Question 80\n",
        "Use len() to check if a password is more than 8 characters."
      ]
    },
    {
      "cell_type": "code",
      "execution_count": null,
      "id": "3a6e545d",
      "metadata": {
        "id": "3a6e545d"
      },
      "outputs": [],
      "source": [
        "# Your code here"
      ]
    },
    {
      "cell_type": "markdown",
      "id": "0f1d92b1",
      "metadata": {
        "id": "0f1d92b1"
      },
      "source": [
        "### Question 81\n",
        "Print result of \"abc\" == \"ABC\".lower()."
      ]
    },
    {
      "cell_type": "code",
      "execution_count": null,
      "id": "eb738757",
      "metadata": {
        "id": "eb738757"
      },
      "outputs": [],
      "source": [
        "# Your code here"
      ]
    },
    {
      "cell_type": "markdown",
      "id": "70e0ae48",
      "metadata": {
        "id": "70e0ae48"
      },
      "source": [
        "### Question 82\n",
        "Use string methods like .upper() and .isnumeric() and print their results."
      ]
    },
    {
      "cell_type": "code",
      "execution_count": null,
      "id": "8516f55d",
      "metadata": {
        "id": "8516f55d"
      },
      "outputs": [],
      "source": [
        "# Your code here"
      ]
    },
    {
      "cell_type": "markdown",
      "id": "0941a0aa",
      "metadata": {
        "id": "0941a0aa"
      },
      "source": [
        "## F. Mixed Practice and Mini Challenges"
      ]
    },
    {
      "cell_type": "markdown",
      "id": "4b00abf6",
      "metadata": {
        "id": "4b00abf6"
      },
      "source": [
        "### Question 84\n",
        "Take a list of 5 numbers and print their average."
      ]
    },
    {
      "cell_type": "code",
      "execution_count": null,
      "id": "7ae02fa5",
      "metadata": {
        "id": "7ae02fa5"
      },
      "outputs": [],
      "source": [
        "# Your code here"
      ]
    },
    {
      "cell_type": "markdown",
      "id": "6363f9cd",
      "metadata": {
        "id": "6363f9cd"
      },
      "source": [
        "### Question 85\n",
        "Take two strings and check if they are the same after converting both to lowercase."
      ]
    },
    {
      "cell_type": "code",
      "execution_count": null,
      "id": "0bbe66ef",
      "metadata": {
        "id": "0bbe66ef"
      },
      "outputs": [],
      "source": [
        "# Your code here"
      ]
    },
    {
      "cell_type": "markdown",
      "id": "65f79b27",
      "metadata": {
        "id": "65f79b27"
      },
      "source": [
        "### Question 86\n",
        "Use len() to check the number of digits in a given integer by converting to string."
      ]
    },
    {
      "cell_type": "code",
      "execution_count": null,
      "id": "36f1ea59",
      "metadata": {
        "id": "36f1ea59"
      },
      "outputs": [],
      "source": [
        "# Your code here"
      ]
    },
    {
      "cell_type": "markdown",
      "id": "5a8acc60",
      "metadata": {
        "id": "5a8acc60"
      },
      "source": [
        "### Question 87\n",
        "Create a tuple of strings and print total characters in all strings."
      ]
    },
    {
      "cell_type": "code",
      "execution_count": null,
      "id": "be750f8e",
      "metadata": {
        "id": "be750f8e"
      },
      "outputs": [],
      "source": [
        "# Your code here"
      ]
    },
    {
      "cell_type": "markdown",
      "id": "3a96b74c",
      "metadata": {
        "id": "3a96b74c"
      },
      "source": [
        "### Question 90\n",
        "Take a list of booleans and print how many are True."
      ]
    },
    {
      "cell_type": "code",
      "execution_count": null,
      "id": "0f7189ad",
      "metadata": {
        "id": "0f7189ad"
      },
      "outputs": [],
      "source": [
        "# Your code here"
      ]
    },
    {
      "cell_type": "markdown",
      "id": "b3bec2ad",
      "metadata": {
        "id": "b3bec2ad"
      },
      "source": [
        "### Question 93\n",
        "Check if length of a string is a multiple of 3."
      ]
    },
    {
      "cell_type": "code",
      "execution_count": null,
      "id": "f001c326",
      "metadata": {
        "id": "f001c326"
      },
      "outputs": [],
      "source": [
        "# Your code here"
      ]
    },
    {
      "cell_type": "markdown",
      "id": "a1c0c243",
      "metadata": {
        "id": "a1c0c243"
      },
      "source": [
        "### Question 95\n",
        "Create a dictionary and print whether a key exists."
      ]
    },
    {
      "cell_type": "code",
      "execution_count": null,
      "id": "b29abf47",
      "metadata": {
        "id": "b29abf47"
      },
      "outputs": [],
      "source": [
        "# Your code here"
      ]
    },
    {
      "cell_type": "markdown",
      "id": "62a88939",
      "metadata": {
        "id": "62a88939"
      },
      "source": [
        "### Question 96\n",
        "Use a string, check if it contains \"@\" and \".\" (email format)."
      ]
    },
    {
      "cell_type": "code",
      "execution_count": null,
      "id": "f39e7eea",
      "metadata": {
        "id": "f39e7eea"
      },
      "outputs": [],
      "source": [
        "# Your code here"
      ]
    },
    {
      "cell_type": "markdown",
      "id": "5f875c32",
      "metadata": {
        "id": "5f875c32"
      },
      "source": [
        "### Question 97\n",
        "Print the result of len([]) and len(())."
      ]
    },
    {
      "cell_type": "code",
      "execution_count": null,
      "id": "682c4f56",
      "metadata": {
        "id": "682c4f56"
      },
      "outputs": [],
      "source": [
        "# Your code here"
      ]
    },
    {
      "cell_type": "markdown",
      "id": "81b839d0",
      "metadata": {
        "id": "81b839d0"
      },
      "source": [
        "### Question 99\n",
        "Check whether the type of len(\"hello\") is int."
      ]
    },
    {
      "cell_type": "code",
      "execution_count": null,
      "id": "8f0db225",
      "metadata": {
        "id": "8f0db225"
      },
      "outputs": [],
      "source": [
        "# Your code here"
      ]
    }
  ],
  "metadata": {
    "colab": {
      "provenance": []
    }
  },
  "nbformat": 4,
  "nbformat_minor": 5
}