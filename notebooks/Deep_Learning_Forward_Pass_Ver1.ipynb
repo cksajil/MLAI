{
 "cells": [
  {
   "cell_type": "code",
   "execution_count": 12,
   "metadata": {},
   "outputs": [],
   "source": [
    "# Import packages\n",
    "import numpy as np\n",
    "from scipy import signal\n",
    "import matplotlib.pyplot as plt"
   ]
  },
  {
   "cell_type": "code",
   "execution_count": 37,
   "metadata": {},
   "outputs": [],
   "source": [
    "img=np.array([(1, 0, 0, 0, 0, 1), \n",
    "              (0, 1, 0, 0, 1, 0), \n",
    "              (0, 0, 1, 1, 0, 0), \n",
    "              (0, 0, 1, 1, 0, 0),\n",
    "              (0, 1, 0, 0, 1, 0),\n",
    "              (1, 0, 0, 0, 0, 1)])"
   ]
  },
  {
   "cell_type": "code",
   "execution_count": 14,
   "metadata": {},
   "outputs": [],
   "source": [
    "kernel1=np.array([(1, 0, 0),\n",
    "                 (0, 1, 0),\n",
    "                 (0, 0, 1)])\n",
    "\n",
    "kernel2=np.array([(0, 0, 1),\n",
    "                 (0, 1, 0),\n",
    "                 (1, 0, 0)])\n",
    "\n",
    "kernel3=np.array([(0, 1, 0),\n",
    "                 (0, 1, 0),\n",
    "                 (0, 1, 0)])"
   ]
  },
  {
   "cell_type": "code",
   "execution_count": 15,
   "metadata": {},
   "outputs": [],
   "source": [
    "kernels = [kernel1, kernel2, kernel3]\n",
    "outputs = []\n",
    "for kernel in kernels:\n",
    "    outputs.append(signal.convolve2d(img,kernel,'valid'))"
   ]
  },
  {
   "cell_type": "code",
   "execution_count": 39,
   "metadata": {},
   "outputs": [
    {
     "data": {
      "image/png": "[encoded data removed]",
      "text/plain": [
       "<Figure size 432x288 with 9 Axes>"
      ]
     },
     "metadata": {
      "needs_background": "light"
     },
     "output_type": "display_data"
    }
   ],
   "source": [
    "fig = plt.figure()\n",
    "\n",
    "plt.subplot(3, 3, 1)\n",
    "plt.imshow(img, cmap='gray')\n",
    "plt.subplot(3, 3, 2)\n",
    "plt.imshow(kernel1, cmap='gray')\n",
    "plt.subplot(3, 3, 3)\n",
    "plt.imshow(outputs[0], cmap='gray')\n",
    "\n",
    "plt.subplot(3, 3, 4)\n",
    "plt.imshow(img, cmap='gray')\n",
    "plt.subplot(3, 3, 5)\n",
    "plt.imshow(kernel2, cmap='gray')\n",
    "plt.subplot(3, 3, 6)\n",
    "plt.imshow(outputs[1], cmap='gray')\n",
    "\n",
    "plt.subplot(3, 3, 7)\n",
    "plt.imshow(img, cmap='gray')\n",
    "plt.subplot(3, 3, 8)\n",
    "plt.imshow(kernel3, cmap='gray')\n",
    "plt.subplot(3, 3, 9)\n",
    "plt.imshow(outputs[2], cmap='gray')\n",
    "plt.savefig('Convolution.png', dpi= 600)\n"
   ]
  },
  {
   "cell_type": "code",
   "execution_count": null,
   "metadata": {},
   "outputs": [],
   "source": []
  }
 ],
 "metadata": {
  "kernelspec": {
   "display_name": "Python 3",
   "language": "python",
   "name": "python3"
  },
  "language_info": {
   "codemirror_mode": {
    "name": "ipython",
    "version": 3
   },
   "file_extension": ".py",
   "mimetype": "text/x-python",
   "name": "python",
   "nbconvert_exporter": "python",
   "pygments_lexer": "ipython3",
   "version": "3.7.1"
  }
 },
 "nbformat": 4,
 "nbformat_minor": 2
}
